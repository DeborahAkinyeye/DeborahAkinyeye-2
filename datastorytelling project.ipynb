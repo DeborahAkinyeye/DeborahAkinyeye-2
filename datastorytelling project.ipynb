{
 "cells": [
  {
   "cell_type": "markdown",
   "id": "bc9fe3bb",
   "metadata": {},
   "source": [
    "# DATA STORYTELLING PROJECT"
   ]
  },
  {
   "cell_type": "markdown",
   "id": "dd28d02f",
   "metadata": {},
   "source": [
    "# Jumia sales review on phone accessories"
   ]
  },
  {
   "cell_type": "markdown",
   "id": "3df90103",
   "metadata": {},
   "source": [
    "What is the meaning of accessories in phone?\n",
    "Mobile Accessories means products that are primarily intended for use in conjunction with Core Equipment relating to Mobile Radio Telecommunication Services (for example, mobile handset chargers, mobile telephone cases, in-car accessories, bluetooth headsets and mobile card readers/writers).\n",
    " In the present time, smartphone users demand more and more functionality in their device so that they can avail the advantage of advanced functionalities with their smart phones.\n",
    " Accessories are the best way to enhance the mobile functionalities. Purchase of mobile accessories can enhance the functionality only when they are selected accurately. You need to make the selection of accessories very carefully so that you can get best results of mobile accessories purchase.\n",
    " The following are the conditions people take into consideration prior to getting phone accessories\n",
    " -Budget: Market is filled with a huge variety of mobile accessories. When you have to make a selection of accessories, you need to be aware of the market. You need to understand that the phone accessories are available in a varied price range. So, first you will need to set a budget that you can afford to spend on the purchase of mobile accessories and then you will need to check the prices of accessories to make the selection.\n",
    " -Quality of the accessory: There are some accessories that will cost you very little but the features usually attract customers to purchase these accessories even when the accessories are not branded or trusted. You need to make sure that the accessory is branded or semi-branded and durable. Features will not be of any use if the accessory does not have the advantage of quality and durability. This is a necessary aspect while choosing mobile accessories.\n",
    " -Branded/ semi-branded/Unbranded: Branded accessories attracts people -for example Apple, Samsung etc. however if you want value for money product at a shoestring budget, then semi branded products like Xiaomi, PTron, Zebronics etc would be preferable. Buying unbranded items is risky, because they will imitate or look like semi branded products but the quality difference will be substantial and you can tell the difference in features while using it or from the durability.\n",
    " -User friendly: Along with price and quality, checking for user friendly features of a product has its significant impact on making a decision to buy. For instance, a smart watch cannot be called smart if it does not have user friendly product design and features. A USB pen drive with an additional feature of key chain holder, adds convenience to carry. Whether it is basic or additional feature, a user friendly product saves time and adds value to money.\n",
    "\n",
    "\n",
    " \n",
    " "
   ]
  },
  {
   "cell_type": "code",
   "execution_count": 32,
   "id": "c4be790d",
   "metadata": {},
   "outputs": [],
   "source": [
    "# web scraping from jumia website\n",
    "from bs4 import BeautifulSoup\n",
    "import requests\n",
    "import pandas as pd\n",
    "import numpy as np\n",
    "import matplotlib\n",
    "from matplotlib import pyplot as plt\n",
    "import random\n",
    "import sklearn"
   ]
  },
  {
   "cell_type": "code",
   "execution_count": 3,
   "id": "432e1e47",
   "metadata": {},
   "outputs": [],
   "source": [
    "url=\"https://www.jumia.com.ng/mobile-accessories/\""
   ]
  },
  {
   "cell_type": "code",
   "execution_count": 4,
   "id": "78105374",
   "metadata": {},
   "outputs": [],
   "source": [
    "page= requests.get(url)"
   ]
  },
  {
   "cell_type": "code",
   "execution_count": 5,
   "id": "3e454ddc",
   "metadata": {},
   "outputs": [],
   "source": [
    "soup=BeautifulSoup(page.content, 'html.parser')"
   ]
  },
  {
   "cell_type": "code",
   "execution_count": 6,
   "id": "2746fc0b",
   "metadata": {},
   "outputs": [],
   "source": [
    "lists = soup.find_all('section', id=\"ctlg\")\n",
    "title = soup.find_all('div', class_=\"name\")\n",
    "number = soup.find_all('div', class_=\"text\")\n",
    "price = soup.find_all('div', class_=\"prc\")\n",
    "review = soup.find_all('div', class_=\"rev\")\n",
    "shipping= soup.find_all('p', class_=\"shipp\")\n",
    "info= [title, price, review, number,shipping]"
   ]
  },
  {
   "cell_type": "code",
   "execution_count": 7,
   "id": "8ea7c7f6",
   "metadata": {},
   "outputs": [
    {
     "name": "stdout",
     "output_type": "stream",
     "text": [
      "                                                  0   \\\n",
      "0                               [Apple Apple Airpod]   \n",
      "1                                         [₦ 59,400]   \n",
      "2                        [[4.4 out of 5, []], (662)]   \n",
      "3                                               None   \n",
      "4  [Jumia Express items in your order will be del...   \n",
      "\n",
      "                                                  1   \\\n",
      "0  [MOVFA Super Power Bank 4USB With LED Light La...   \n",
      "1                                         [₦ 14,900]   \n",
      "2                       [[3.9 out of 5, []], (2199)]   \n",
      "3                                               None   \n",
      "4  [Jumia Express items in your order will be del...   \n",
      "\n",
      "                                                  2   \\\n",
      "0  [SanDisk 128GB Ultra MicroSD 100Mb/s Speed Mem...   \n",
      "1                                          [₦ 8,625]   \n",
      "2                       [[4.5 out of 5, []], (4368)]   \n",
      "3                                               None   \n",
      "4  [Jumia Express items in your order will be del...   \n",
      "\n",
      "                                                  3   \\\n",
      "0  [MOVFA Super Power Bank 4USB Port With LED Lam...   \n",
      "1                                         [₦ 15,400]   \n",
      "2                       [[4.4 out of 5, []], (1161)]   \n",
      "3                                               None   \n",
      "4  [Jumia Express items in your order will be del...   \n",
      "\n",
      "                                                  4   \\\n",
      "0  [SanDisk Memory Cards, 128GB 100MB/s Ultra A1 ...   \n",
      "1                                          [₦ 7,810]   \n",
      "2                       [[3.9 out of 5, []], (4834)]   \n",
      "3                                               None   \n",
      "4  [Jumia Express items in your order will be del...   \n",
      "\n",
      "                                                  5   \\\n",
      "0  [Edifier X3 Wireless Headphone, Bluetooth 5.0 ...   \n",
      "1                                          [₦ 9,615]   \n",
      "2                         [[4 out of 5, []], (1034)]   \n",
      "3                                               None   \n",
      "4  [Jumia Express items in your order will be del...   \n",
      "\n",
      "                                                  6   \\\n",
      "0  [SanDisk Ultra 64GB MicroSD 100Mb/s Speed Memo...   \n",
      "1                                          [₦ 5,095]   \n",
      "2                       [[3.9 out of 5, []], (4950)]   \n",
      "3                                               None   \n",
      "4  [Jumia Express items in your order will be del...   \n",
      "\n",
      "                                                  7   \\\n",
      "0  [Wireless BT 4.1 Audio Receiver Music Box Adap...   \n",
      "1                                          [₦ 1,100]   \n",
      "2                         [[4.6 out of 5, []], (29)]   \n",
      "3                                               None   \n",
      "4  [Jumia Express items in your order will be del...   \n",
      "\n",
      "                                                  8   \\\n",
      "0  [Edifier X5 Wireless Headphone, Bluetooth 5.0 ...   \n",
      "1                                         [₦ 10,990]   \n",
      "2                         [[4.3 out of 5, []], (68)]   \n",
      "3                                               None   \n",
      "4  [Jumia Express items in your order will be del...   \n",
      "\n",
      "                                                  9   ...         53  \\\n",
      "0  [XC 64GB-U3  Memory Card Micro SD / TF Card Wi...  ...       None   \n",
      "1                                          [₦ 3,500]  ...  [₦ 3,490]   \n",
      "2                        [[4.3 out of 5, []], (755)]  ...       None   \n",
      "3                                               None  ...       None   \n",
      "4  [Jumia Express items in your order will be del...  ...       None   \n",
      "\n",
      "          54    55    56    57    58    59    60    61    62  \n",
      "0       None  None  None  None  None  None  None  None  None  \n",
      "1  [₦ 2,990]    []    []    []    []    []    []    []    []  \n",
      "2       None  None  None  None  None  None  None  None  None  \n",
      "3       None  None  None  None  None  None  None  None  None  \n",
      "4       None  None  None  None  None  None  None  None  None  \n",
      "\n",
      "[5 rows x 63 columns]\n"
     ]
    }
   ],
   "source": [
    "data= pd.DataFrame(info)\n",
    "print(data)"
   ]
  },
  {
   "cell_type": "code",
   "execution_count": 8,
   "id": "ef2636ef",
   "metadata": {},
   "outputs": [],
   "source": [
    "df=data.T"
   ]
  },
  {
   "cell_type": "code",
   "execution_count": 9,
   "id": "9841a56a",
   "metadata": {},
   "outputs": [
    {
     "name": "stdout",
     "output_type": "stream",
     "text": [
      "                                                    0           1  \\\n",
      "0                                [Apple Apple Airpod]  [₦ 59,400]   \n",
      "1   [MOVFA Super Power Bank 4USB With LED Light La...  [₦ 14,900]   \n",
      "2   [SanDisk 128GB Ultra MicroSD 100Mb/s Speed Mem...   [₦ 8,625]   \n",
      "3   [MOVFA Super Power Bank 4USB Port With LED Lam...  [₦ 15,400]   \n",
      "4   [SanDisk Memory Cards, 128GB 100MB/s Ultra A1 ...   [₦ 7,810]   \n",
      "..                                                ...         ...   \n",
      "58                                               None          []   \n",
      "59                                               None          []   \n",
      "60                                               None          []   \n",
      "61                                               None          []   \n",
      "62                                               None          []   \n",
      "\n",
      "                               2     3  \\\n",
      "0    [[4.4 out of 5, []], (662)]  None   \n",
      "1   [[3.9 out of 5, []], (2199)]  None   \n",
      "2   [[4.5 out of 5, []], (4368)]  None   \n",
      "3   [[4.4 out of 5, []], (1161)]  None   \n",
      "4   [[3.9 out of 5, []], (4834)]  None   \n",
      "..                           ...   ...   \n",
      "58                          None  None   \n",
      "59                          None  None   \n",
      "60                          None  None   \n",
      "61                          None  None   \n",
      "62                          None  None   \n",
      "\n",
      "                                                    4  \n",
      "0   [Jumia Express items in your order will be del...  \n",
      "1   [Jumia Express items in your order will be del...  \n",
      "2   [Jumia Express items in your order will be del...  \n",
      "3   [Jumia Express items in your order will be del...  \n",
      "4   [Jumia Express items in your order will be del...  \n",
      "..                                                ...  \n",
      "58                                               None  \n",
      "59                                               None  \n",
      "60                                               None  \n",
      "61                                               None  \n",
      "62                                               None  \n",
      "\n",
      "[63 rows x 5 columns]\n"
     ]
    }
   ],
   "source": [
    "print(df)"
   ]
  },
  {
   "cell_type": "code",
   "execution_count": 10,
   "id": "c1968d16",
   "metadata": {},
   "outputs": [
    {
     "data": {
      "text/html": [
       "<div>\n",
       "<style scoped>\n",
       "    .dataframe tbody tr th:only-of-type {\n",
       "        vertical-align: middle;\n",
       "    }\n",
       "\n",
       "    .dataframe tbody tr th {\n",
       "        vertical-align: top;\n",
       "    }\n",
       "\n",
       "    .dataframe thead th {\n",
       "        text-align: right;\n",
       "    }\n",
       "</style>\n",
       "<table border=\"1\" class=\"dataframe\">\n",
       "  <thead>\n",
       "    <tr style=\"text-align: right;\">\n",
       "      <th></th>\n",
       "      <th>0</th>\n",
       "      <th>1</th>\n",
       "      <th>2</th>\n",
       "      <th>3</th>\n",
       "      <th>4</th>\n",
       "    </tr>\n",
       "  </thead>\n",
       "  <tbody>\n",
       "    <tr>\n",
       "      <th>0</th>\n",
       "      <td>[Apple Apple Airpod]</td>\n",
       "      <td>[₦ 59,400]</td>\n",
       "      <td>[[4.4 out of 5, []], (662)]</td>\n",
       "      <td>None</td>\n",
       "      <td>[Jumia Express items in your order will be del...</td>\n",
       "    </tr>\n",
       "    <tr>\n",
       "      <th>1</th>\n",
       "      <td>[MOVFA Super Power Bank 4USB With LED Light La...</td>\n",
       "      <td>[₦ 14,900]</td>\n",
       "      <td>[[3.9 out of 5, []], (2199)]</td>\n",
       "      <td>None</td>\n",
       "      <td>[Jumia Express items in your order will be del...</td>\n",
       "    </tr>\n",
       "    <tr>\n",
       "      <th>2</th>\n",
       "      <td>[SanDisk 128GB Ultra MicroSD 100Mb/s Speed Mem...</td>\n",
       "      <td>[₦ 8,625]</td>\n",
       "      <td>[[4.5 out of 5, []], (4368)]</td>\n",
       "      <td>None</td>\n",
       "      <td>[Jumia Express items in your order will be del...</td>\n",
       "    </tr>\n",
       "    <tr>\n",
       "      <th>3</th>\n",
       "      <td>[MOVFA Super Power Bank 4USB Port With LED Lam...</td>\n",
       "      <td>[₦ 15,400]</td>\n",
       "      <td>[[4.4 out of 5, []], (1161)]</td>\n",
       "      <td>None</td>\n",
       "      <td>[Jumia Express items in your order will be del...</td>\n",
       "    </tr>\n",
       "    <tr>\n",
       "      <th>4</th>\n",
       "      <td>[SanDisk Memory Cards, 128GB 100MB/s Ultra A1 ...</td>\n",
       "      <td>[₦ 7,810]</td>\n",
       "      <td>[[3.9 out of 5, []], (4834)]</td>\n",
       "      <td>None</td>\n",
       "      <td>[Jumia Express items in your order will be del...</td>\n",
       "    </tr>\n",
       "  </tbody>\n",
       "</table>\n",
       "</div>"
      ],
      "text/plain": [
       "                                                   0           1  \\\n",
       "0                               [Apple Apple Airpod]  [₦ 59,400]   \n",
       "1  [MOVFA Super Power Bank 4USB With LED Light La...  [₦ 14,900]   \n",
       "2  [SanDisk 128GB Ultra MicroSD 100Mb/s Speed Mem...   [₦ 8,625]   \n",
       "3  [MOVFA Super Power Bank 4USB Port With LED Lam...  [₦ 15,400]   \n",
       "4  [SanDisk Memory Cards, 128GB 100MB/s Ultra A1 ...   [₦ 7,810]   \n",
       "\n",
       "                              2     3  \\\n",
       "0   [[4.4 out of 5, []], (662)]  None   \n",
       "1  [[3.9 out of 5, []], (2199)]  None   \n",
       "2  [[4.5 out of 5, []], (4368)]  None   \n",
       "3  [[4.4 out of 5, []], (1161)]  None   \n",
       "4  [[3.9 out of 5, []], (4834)]  None   \n",
       "\n",
       "                                                   4  \n",
       "0  [Jumia Express items in your order will be del...  \n",
       "1  [Jumia Express items in your order will be del...  \n",
       "2  [Jumia Express items in your order will be del...  \n",
       "3  [Jumia Express items in your order will be del...  \n",
       "4  [Jumia Express items in your order will be del...  "
      ]
     },
     "execution_count": 10,
     "metadata": {},
     "output_type": "execute_result"
    }
   ],
   "source": [
    "df.head()"
   ]
  },
  {
   "cell_type": "code",
   "execution_count": 11,
   "id": "e4ffab4c",
   "metadata": {},
   "outputs": [],
   "source": [
    "df.columns=[\"NAME OF PRODUCT\",\"PRICE\",\"REVIEW/SALES\",\"EMPTY\",\"ORDER LOCATION\"]"
   ]
  },
  {
   "cell_type": "code",
   "execution_count": 12,
   "id": "7a474e0a",
   "metadata": {},
   "outputs": [
    {
     "data": {
      "text/html": [
       "<div>\n",
       "<style scoped>\n",
       "    .dataframe tbody tr th:only-of-type {\n",
       "        vertical-align: middle;\n",
       "    }\n",
       "\n",
       "    .dataframe tbody tr th {\n",
       "        vertical-align: top;\n",
       "    }\n",
       "\n",
       "    .dataframe thead th {\n",
       "        text-align: right;\n",
       "    }\n",
       "</style>\n",
       "<table border=\"1\" class=\"dataframe\">\n",
       "  <thead>\n",
       "    <tr style=\"text-align: right;\">\n",
       "      <th></th>\n",
       "      <th>NAME OF PRODUCT</th>\n",
       "      <th>PRICE</th>\n",
       "      <th>REVIEW/SALES</th>\n",
       "      <th>EMPTY</th>\n",
       "      <th>ORDER LOCATION</th>\n",
       "    </tr>\n",
       "  </thead>\n",
       "  <tbody>\n",
       "    <tr>\n",
       "      <th>0</th>\n",
       "      <td>[Apple Apple Airpod]</td>\n",
       "      <td>[₦ 59,400]</td>\n",
       "      <td>[[4.4 out of 5, []], (662)]</td>\n",
       "      <td>None</td>\n",
       "      <td>[Jumia Express items in your order will be del...</td>\n",
       "    </tr>\n",
       "    <tr>\n",
       "      <th>1</th>\n",
       "      <td>[MOVFA Super Power Bank 4USB With LED Light La...</td>\n",
       "      <td>[₦ 14,900]</td>\n",
       "      <td>[[3.9 out of 5, []], (2199)]</td>\n",
       "      <td>None</td>\n",
       "      <td>[Jumia Express items in your order will be del...</td>\n",
       "    </tr>\n",
       "    <tr>\n",
       "      <th>2</th>\n",
       "      <td>[SanDisk 128GB Ultra MicroSD 100Mb/s Speed Mem...</td>\n",
       "      <td>[₦ 8,625]</td>\n",
       "      <td>[[4.5 out of 5, []], (4368)]</td>\n",
       "      <td>None</td>\n",
       "      <td>[Jumia Express items in your order will be del...</td>\n",
       "    </tr>\n",
       "    <tr>\n",
       "      <th>3</th>\n",
       "      <td>[MOVFA Super Power Bank 4USB Port With LED Lam...</td>\n",
       "      <td>[₦ 15,400]</td>\n",
       "      <td>[[4.4 out of 5, []], (1161)]</td>\n",
       "      <td>None</td>\n",
       "      <td>[Jumia Express items in your order will be del...</td>\n",
       "    </tr>\n",
       "    <tr>\n",
       "      <th>4</th>\n",
       "      <td>[SanDisk Memory Cards, 128GB 100MB/s Ultra A1 ...</td>\n",
       "      <td>[₦ 7,810]</td>\n",
       "      <td>[[3.9 out of 5, []], (4834)]</td>\n",
       "      <td>None</td>\n",
       "      <td>[Jumia Express items in your order will be del...</td>\n",
       "    </tr>\n",
       "  </tbody>\n",
       "</table>\n",
       "</div>"
      ],
      "text/plain": [
       "                                     NAME OF PRODUCT       PRICE  \\\n",
       "0                               [Apple Apple Airpod]  [₦ 59,400]   \n",
       "1  [MOVFA Super Power Bank 4USB With LED Light La...  [₦ 14,900]   \n",
       "2  [SanDisk 128GB Ultra MicroSD 100Mb/s Speed Mem...   [₦ 8,625]   \n",
       "3  [MOVFA Super Power Bank 4USB Port With LED Lam...  [₦ 15,400]   \n",
       "4  [SanDisk Memory Cards, 128GB 100MB/s Ultra A1 ...   [₦ 7,810]   \n",
       "\n",
       "                   REVIEW/SALES EMPTY  \\\n",
       "0   [[4.4 out of 5, []], (662)]  None   \n",
       "1  [[3.9 out of 5, []], (2199)]  None   \n",
       "2  [[4.5 out of 5, []], (4368)]  None   \n",
       "3  [[4.4 out of 5, []], (1161)]  None   \n",
       "4  [[3.9 out of 5, []], (4834)]  None   \n",
       "\n",
       "                                      ORDER LOCATION  \n",
       "0  [Jumia Express items in your order will be del...  \n",
       "1  [Jumia Express items in your order will be del...  \n",
       "2  [Jumia Express items in your order will be del...  \n",
       "3  [Jumia Express items in your order will be del...  \n",
       "4  [Jumia Express items in your order will be del...  "
      ]
     },
     "execution_count": 12,
     "metadata": {},
     "output_type": "execute_result"
    }
   ],
   "source": [
    "df.head()"
   ]
  },
  {
   "cell_type": "code",
   "execution_count": 14,
   "id": "3c50e414",
   "metadata": {},
   "outputs": [
    {
     "data": {
      "text/plain": [
       "Index(['NAME OF PRODUCT', 'PRICE', 'REVIEW/SALES', 'EMPTY', 'ORDER LOCATION'], dtype='object')"
      ]
     },
     "execution_count": 14,
     "metadata": {},
     "output_type": "execute_result"
    }
   ],
   "source": [
    "df.columns"
   ]
  },
  {
   "cell_type": "code",
   "execution_count": 15,
   "id": "356bfb9f",
   "metadata": {},
   "outputs": [
    {
     "name": "stdout",
     "output_type": "stream",
     "text": [
      "<class 'pandas.core.frame.DataFrame'>\n",
      "RangeIndex: 63 entries, 0 to 62\n",
      "Data columns (total 5 columns):\n",
      " #   Column           Non-Null Count  Dtype \n",
      "---  ------           --------------  ----- \n",
      " 0   NAME OF PRODUCT  15 non-null     object\n",
      " 1   PRICE            63 non-null     object\n",
      " 2   REVIEW/SALES     40 non-null     object\n",
      " 3   EMPTY            0 non-null      object\n",
      " 4   ORDER LOCATION   33 non-null     object\n",
      "dtypes: object(5)\n",
      "memory usage: 2.6+ KB\n"
     ]
    }
   ],
   "source": [
    "df.info()"
   ]
  },
  {
   "cell_type": "code",
   "execution_count": 16,
   "id": "e5f25fef",
   "metadata": {},
   "outputs": [
    {
     "data": {
      "text/plain": [
       "NAME OF PRODUCT    48\n",
       "PRICE               0\n",
       "REVIEW/SALES       23\n",
       "EMPTY              63\n",
       "ORDER LOCATION     30\n",
       "dtype: int64"
      ]
     },
     "execution_count": 16,
     "metadata": {},
     "output_type": "execute_result"
    }
   ],
   "source": [
    "df.isnull().sum()"
   ]
  },
  {
   "cell_type": "code",
   "execution_count": 17,
   "id": "9be76849",
   "metadata": {},
   "outputs": [],
   "source": [
    "df2=df.dropna()"
   ]
  },
  {
   "cell_type": "code",
   "execution_count": 18,
   "id": "88b81e1b",
   "metadata": {},
   "outputs": [],
   "source": [
    "df.drop('EMPTY', axis=1, inplace=True)"
   ]
  },
  {
   "cell_type": "code",
   "execution_count": 19,
   "id": "92413ffb",
   "metadata": {},
   "outputs": [
    {
     "data": {
      "text/html": [
       "<div>\n",
       "<style scoped>\n",
       "    .dataframe tbody tr th:only-of-type {\n",
       "        vertical-align: middle;\n",
       "    }\n",
       "\n",
       "    .dataframe tbody tr th {\n",
       "        vertical-align: top;\n",
       "    }\n",
       "\n",
       "    .dataframe thead th {\n",
       "        text-align: right;\n",
       "    }\n",
       "</style>\n",
       "<table border=\"1\" class=\"dataframe\">\n",
       "  <thead>\n",
       "    <tr style=\"text-align: right;\">\n",
       "      <th></th>\n",
       "      <th>NAME OF PRODUCT</th>\n",
       "      <th>PRICE</th>\n",
       "      <th>REVIEW/SALES</th>\n",
       "      <th>ORDER LOCATION</th>\n",
       "    </tr>\n",
       "  </thead>\n",
       "  <tbody>\n",
       "    <tr>\n",
       "      <th>0</th>\n",
       "      <td>[Apple Apple Airpod]</td>\n",
       "      <td>[₦ 59,400]</td>\n",
       "      <td>[[4.4 out of 5, []], (662)]</td>\n",
       "      <td>[Jumia Express items in your order will be del...</td>\n",
       "    </tr>\n",
       "    <tr>\n",
       "      <th>1</th>\n",
       "      <td>[MOVFA Super Power Bank 4USB With LED Light La...</td>\n",
       "      <td>[₦ 14,900]</td>\n",
       "      <td>[[3.9 out of 5, []], (2199)]</td>\n",
       "      <td>[Jumia Express items in your order will be del...</td>\n",
       "    </tr>\n",
       "    <tr>\n",
       "      <th>2</th>\n",
       "      <td>[SanDisk 128GB Ultra MicroSD 100Mb/s Speed Mem...</td>\n",
       "      <td>[₦ 8,625]</td>\n",
       "      <td>[[4.5 out of 5, []], (4368)]</td>\n",
       "      <td>[Jumia Express items in your order will be del...</td>\n",
       "    </tr>\n",
       "    <tr>\n",
       "      <th>3</th>\n",
       "      <td>[MOVFA Super Power Bank 4USB Port With LED Lam...</td>\n",
       "      <td>[₦ 15,400]</td>\n",
       "      <td>[[4.4 out of 5, []], (1161)]</td>\n",
       "      <td>[Jumia Express items in your order will be del...</td>\n",
       "    </tr>\n",
       "    <tr>\n",
       "      <th>4</th>\n",
       "      <td>[SanDisk Memory Cards, 128GB 100MB/s Ultra A1 ...</td>\n",
       "      <td>[₦ 7,810]</td>\n",
       "      <td>[[3.9 out of 5, []], (4834)]</td>\n",
       "      <td>[Jumia Express items in your order will be del...</td>\n",
       "    </tr>\n",
       "  </tbody>\n",
       "</table>\n",
       "</div>"
      ],
      "text/plain": [
       "                                     NAME OF PRODUCT       PRICE  \\\n",
       "0                               [Apple Apple Airpod]  [₦ 59,400]   \n",
       "1  [MOVFA Super Power Bank 4USB With LED Light La...  [₦ 14,900]   \n",
       "2  [SanDisk 128GB Ultra MicroSD 100Mb/s Speed Mem...   [₦ 8,625]   \n",
       "3  [MOVFA Super Power Bank 4USB Port With LED Lam...  [₦ 15,400]   \n",
       "4  [SanDisk Memory Cards, 128GB 100MB/s Ultra A1 ...   [₦ 7,810]   \n",
       "\n",
       "                   REVIEW/SALES  \\\n",
       "0   [[4.4 out of 5, []], (662)]   \n",
       "1  [[3.9 out of 5, []], (2199)]   \n",
       "2  [[4.5 out of 5, []], (4368)]   \n",
       "3  [[4.4 out of 5, []], (1161)]   \n",
       "4  [[3.9 out of 5, []], (4834)]   \n",
       "\n",
       "                                      ORDER LOCATION  \n",
       "0  [Jumia Express items in your order will be del...  \n",
       "1  [Jumia Express items in your order will be del...  \n",
       "2  [Jumia Express items in your order will be del...  \n",
       "3  [Jumia Express items in your order will be del...  \n",
       "4  [Jumia Express items in your order will be del...  "
      ]
     },
     "execution_count": 19,
     "metadata": {},
     "output_type": "execute_result"
    }
   ],
   "source": [
    "df.head()"
   ]
  },
  {
   "cell_type": "code",
   "execution_count": 29,
   "id": "027622bf",
   "metadata": {},
   "outputs": [
    {
     "data": {
      "text/plain": [
       "<pandas.core.groupby.generic.DataFrameGroupBy object at 0x00000243CC77FE50>"
      ]
     },
     "execution_count": 29,
     "metadata": {},
     "output_type": "execute_result"
    }
   ],
   "source": [
    "df.groupby(['PRICE'])"
   ]
  },
  {
   "cell_type": "code",
   "execution_count": 39,
   "id": "f65e802f",
   "metadata": {},
   "outputs": [
    {
     "data": {
      "image/png": "[encoded data removed]",
      "text/plain": [
       "<Figure size 432x288 with 1 Axes>"
      ]
     },
     "metadata": {
      "needs_background": "light"
     },
     "output_type": "display_data"
    }
   ],
   "source": [
    "plt.plot(['PRICE'],['NAME OF PRODUCT'])\n",
    "plt.show()"
   ]
  },
  {
   "cell_type": "code",
   "execution_count": 35,
   "id": "5f55b5e1",
   "metadata": {},
   "outputs": [
    {
     "data": {
      "text/html": [
       "<div>\n",
       "<style scoped>\n",
       "    .dataframe tbody tr th:only-of-type {\n",
       "        vertical-align: middle;\n",
       "    }\n",
       "\n",
       "    .dataframe tbody tr th {\n",
       "        vertical-align: top;\n",
       "    }\n",
       "\n",
       "    .dataframe thead th {\n",
       "        text-align: right;\n",
       "    }\n",
       "</style>\n",
       "<table border=\"1\" class=\"dataframe\">\n",
       "  <thead>\n",
       "    <tr style=\"text-align: right;\">\n",
       "      <th></th>\n",
       "      <th>NAME OF PRODUCT</th>\n",
       "      <th>PRICE</th>\n",
       "      <th>REVIEW/SALES</th>\n",
       "      <th>ORDER LOCATION</th>\n",
       "    </tr>\n",
       "  </thead>\n",
       "  <tbody>\n",
       "    <tr>\n",
       "      <th>0</th>\n",
       "      <td>[Apple Apple Airpod]</td>\n",
       "      <td>[₦ 59,400]</td>\n",
       "      <td>[[4.4 out of 5, []], (662)]</td>\n",
       "      <td>[Jumia Express items in your order will be del...</td>\n",
       "    </tr>\n",
       "    <tr>\n",
       "      <th>1</th>\n",
       "      <td>[MOVFA Super Power Bank 4USB With LED Light La...</td>\n",
       "      <td>[₦ 14,900]</td>\n",
       "      <td>[[3.9 out of 5, []], (2199)]</td>\n",
       "      <td>[Jumia Express items in your order will be del...</td>\n",
       "    </tr>\n",
       "    <tr>\n",
       "      <th>2</th>\n",
       "      <td>[SanDisk 128GB Ultra MicroSD 100Mb/s Speed Mem...</td>\n",
       "      <td>[₦ 8,625]</td>\n",
       "      <td>[[4.5 out of 5, []], (4368)]</td>\n",
       "      <td>[Jumia Express items in your order will be del...</td>\n",
       "    </tr>\n",
       "    <tr>\n",
       "      <th>3</th>\n",
       "      <td>[MOVFA Super Power Bank 4USB Port With LED Lam...</td>\n",
       "      <td>[₦ 15,400]</td>\n",
       "      <td>[[4.4 out of 5, []], (1161)]</td>\n",
       "      <td>[Jumia Express items in your order will be del...</td>\n",
       "    </tr>\n",
       "    <tr>\n",
       "      <th>4</th>\n",
       "      <td>[SanDisk Memory Cards, 128GB 100MB/s Ultra A1 ...</td>\n",
       "      <td>[₦ 7,810]</td>\n",
       "      <td>[[3.9 out of 5, []], (4834)]</td>\n",
       "      <td>[Jumia Express items in your order will be del...</td>\n",
       "    </tr>\n",
       "  </tbody>\n",
       "</table>\n",
       "</div>"
      ],
      "text/plain": [
       "                                     NAME OF PRODUCT       PRICE  \\\n",
       "0                               [Apple Apple Airpod]  [₦ 59,400]   \n",
       "1  [MOVFA Super Power Bank 4USB With LED Light La...  [₦ 14,900]   \n",
       "2  [SanDisk 128GB Ultra MicroSD 100Mb/s Speed Mem...   [₦ 8,625]   \n",
       "3  [MOVFA Super Power Bank 4USB Port With LED Lam...  [₦ 15,400]   \n",
       "4  [SanDisk Memory Cards, 128GB 100MB/s Ultra A1 ...   [₦ 7,810]   \n",
       "\n",
       "                   REVIEW/SALES  \\\n",
       "0   [[4.4 out of 5, []], (662)]   \n",
       "1  [[3.9 out of 5, []], (2199)]   \n",
       "2  [[4.5 out of 5, []], (4368)]   \n",
       "3  [[4.4 out of 5, []], (1161)]   \n",
       "4  [[3.9 out of 5, []], (4834)]   \n",
       "\n",
       "                                      ORDER LOCATION  \n",
       "0  [Jumia Express items in your order will be del...  \n",
       "1  [Jumia Express items in your order will be del...  \n",
       "2  [Jumia Express items in your order will be del...  \n",
       "3  [Jumia Express items in your order will be del...  \n",
       "4  [Jumia Express items in your order will be del...  "
      ]
     },
     "execution_count": 35,
     "metadata": {},
     "output_type": "execute_result"
    }
   ],
   "source": [
    "df.head()"
   ]
  },
  {
   "cell_type": "code",
   "execution_count": null,
   "id": "c39e383e",
   "metadata": {},
   "outputs": [],
   "source": []
  },
  {
   "cell_type": "code",
   "execution_count": null,
   "id": "1ab05ee6",
   "metadata": {},
   "outputs": [],
   "source": []
  },
  {
   "cell_type": "code",
   "execution_count": null,
   "id": "7900abc7",
   "metadata": {},
   "outputs": [],
   "source": []
  }
 ],
 "metadata": {
  "kernelspec": {
   "display_name": "Python 3 (ipykernel)",
   "language": "python",
   "name": "python3"
  },
  "language_info": {
   "codemirror_mode": {
    "name": "ipython",
    "version": 3
   },
   "file_extension": ".py",
   "mimetype": "text/x-python",
   "name": "python",
   "nbconvert_exporter": "python",
   "pygments_lexer": "ipython3",
   "version": "3.9.7"
  }
 },
 "nbformat": 4,
 "nbformat_minor": 5
}
